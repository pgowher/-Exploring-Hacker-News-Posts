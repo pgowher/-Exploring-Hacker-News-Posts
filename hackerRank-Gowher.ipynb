{
 "cells": [
  {
   "cell_type": "markdown",
   "metadata": {
    "collapsed": true
   },
   "source": [
    "# Exploring Hacker News Posts\n",
    "\n",
    "## Project Summary\n",
    "\n",
    "Hacker News is a site started by the startup incubator Y Combinator. On this site,user-submitted stories also known as \"posts\",  receive votes and comments, just like `reddit`. Hacker News is extremely popular in technology and startup circles. The user posts that make it to the top of the Hacker News listings can get hundreds of thousands of visitors.\n",
    "\n",
    "We are specifically interested in posts with titles that begin with either `Ask HN` (i.e. user-submitted posts that ask the Hacker News community a specific question) or `Show HN` (i.e. user-submitted posts that introduce the Hacker News community to a project, product or just something interesting).\n",
    "\n",
    "To answer the posed questions, we will compare these two types of posts to determine which ones receive more comments and whether posts get more comments at a certain time.\n",
    "\n",
    "### Reading and Importing the Dataset from `hacker_news.csv`"
   ]
  },
  {
   "cell_type": "code",
   "execution_count": 1,
   "metadata": {},
   "outputs": [
    {
     "name": "stdout",
     "output_type": "stream",
     "text": [
      "['12224879', 'Interactive Dynamic Video', 'http://www.interactivedynamicvideo.com/', '386', '52', 'ne0phyte', '8/4/2016 11:52']\n",
      "\n",
      "\n",
      "['10975351', 'How to Use Open Source and Shut the Fuck Up at the Same Time', 'http://hueniverse.com/2016/01/26/how-to-use-open-source-and-shut-the-fuck-up-at-the-same-time/', '39', '10', 'josep2', '1/26/2016 19:30']\n",
      "\n",
      "\n",
      "['11964716', \"Florida DJs May Face Felony for April Fools' Water Joke\", 'http://www.thewire.com/entertainment/2013/04/florida-djs-april-fools-water-joke/63798/', '2', '1', 'vezycash', '6/23/2016 22:20']\n",
      "\n",
      "\n",
      "['11919867', 'Technology ventures: From Idea to Enterprise', 'https://www.amazon.com/Technology-Ventures-Enterprise-Thomas-Byers/dp/0073523429', '3', '1', 'hswarna', '6/17/2016 0:01']\n",
      "\n",
      "\n",
      "['10301696', 'Note by Note: The Making of Steinway L1037 (2007)', 'http://www.nytimes.com/2007/11/07/movies/07stein.html?_r=0', '8', '2', 'walterbell', '9/30/2015 4:12']\n",
      "\n",
      "\n"
     ]
    }
   ],
   "source": [
    "from csv import reader\n",
    "import datetime as dt\n",
    "\n",
    "open_file = open('hacker_news.csv')\n",
    "read_file = reader(open_file)\n",
    "hacker_list = list(read_file)\n",
    "header = hacker_list[0]\n",
    "hacker_list = hacker_list[1:]\n",
    "\n",
    "for row_data in hacker_list[:5]: # display the first five rows\n",
    "    print(row_data)\n",
    "    print('\\n')"
   ]
  },
  {
   "cell_type": "markdown",
   "metadata": {},
   "source": [
    "The table below shows different column headings, along with a short description, present in the `hacker_news` dataset. \n",
    "\n",
    "| index | column heading | description |\n",
    "| :-: | -: | :- |\n",
    "| 0 | id | the unique identifier from Hacker News for the post |\n",
    "| 1 | title | the title of the post |\n",
    "| 2 | url | the URL that the posts links to, if the post has a URL |\n",
    "| 3 | num_points | the number of points the post acquired, calculated as the total number of upvotes minus the total number of downvotes |\n",
    "| 4 | num_comments | the number of comments on the post |\n",
    "| 5 | author | the username of the person who submitted the post |\n",
    "| 6 | created_at | the date and time of the post's submission |\n",
    "\n",
    "### Checking the Column Headings"
   ]
  },
  {
   "cell_type": "code",
   "execution_count": 2,
   "metadata": {},
   "outputs": [
    {
     "name": "stdout",
     "output_type": "stream",
     "text": [
      "['id', 'title', 'url', 'num_points', 'num_comments', 'author', 'created_at']\n"
     ]
    }
   ],
   "source": [
    "print(header)"
   ]
  },
  {
   "cell_type": "markdown",
   "metadata": {},
   "source": [
    "### Extracting and Splitting Posts Beloging to Different Categories\n",
    "\n",
    "We start with searching the dataset for the corresponding keywords i.e., `Ask HN` and `Show HN`.\n",
    "To find out which post starts with the corresponding keywords, we utilise the inbuilt string method `startswith`. The `startswith()` method returns `True` if the string starts with the specified value, otherwise `False`. To filter all posts by their initial letters, we iterate through each post and check if the first letters match the ones queried. If the two match, we append the full row to a list. Also, the appropriate posts will then be split into the respective lists."
   ]
  },
  {
   "cell_type": "code",
   "execution_count": 3,
   "metadata": {},
   "outputs": [],
   "source": [
    "asking_posts = []\n",
    "showing_posts = []\n",
    "misc_posts = []\n",
    "\n",
    "for post_row in hacker_list:\n",
    "    post_title = post_row[1].lower()\n",
    "    if post_title.startswith('ask hn'):\n",
    "        asking_posts.append(post_row)\n",
    "    elif post_title.startswith('show hn'):\n",
    "        showing_posts.append(post_row)\n",
    "    else:\n",
    "        misc_posts.append(post_row)"
   ]
  },
  {
   "cell_type": "markdown",
   "metadata": {},
   "source": [
    "Let's check the number of total posts in the dataset. We will also examine the number of posts belonging to different categories such as `ASK HN`, `Show HN` and `Miscellaneous`."
   ]
  },
  {
   "cell_type": "code",
   "execution_count": 4,
   "metadata": {},
   "outputs": [
    {
     "name": "stdout",
     "output_type": "stream",
     "text": [
      "Total number of posts in hacker_news dataset: 20100\n",
      "\n",
      "Number of posts in 'ASK HN' category:1744\n",
      "Number of posts in 'Show HN' category: 1162\n",
      "Number of posts in 'Miscellaneous' category: 17194\n"
     ]
    }
   ],
   "source": [
    "print('Total number of posts in hacker_news dataset: ' + str(len(hacker_list)))\n",
    "print('')\n",
    "print(\"Number of posts in 'ASK HN' category:\" + str(len(asking_posts)))\n",
    "print(\"Number of posts in 'Show HN' category: \" + str(len(showing_posts)))\n",
    "print(\"Number of posts in 'Miscellaneous' category: \" + str(len(misc_posts)))"
   ]
  },
  {
   "cell_type": "markdown",
   "metadata": {},
   "source": [
    "For verifying that the lists are being created and processed correctly, we will display the first and last two entries of each list."
   ]
  },
  {
   "cell_type": "code",
   "execution_count": 5,
   "metadata": {
    "scrolled": false
   },
   "outputs": [
    {
     "name": "stdout",
     "output_type": "stream",
     "text": [
      "Ask HN: How to improve my personal website?\n",
      "Ask HN: Why are papers still published as PDFs?\n",
      "Ask HN: Am I the only one outraged by Twitter shutting down share counts?\n",
      "Ask HN: How do you balance a serious relationship with starting a company?\n",
      "\n",
      "\n",
      "Show HN: Wio Link  ESP8266 Based Web of Things Hardware Development Platform\n",
      "Show HN: Parse recipe ingredients using JavaScript\n",
      "Show HN: Something pointless I made\n",
      "Show HN: PhantomJsCloud, Headless Browser SaaS\n"
     ]
    }
   ],
   "source": [
    "for asking_row in range(0, 2):\n",
    "    print(asking_posts[asking_row][1])\n",
    "    print(asking_posts[-asking_row-1][1])\n",
    "    \n",
    "print('\\n')\n",
    "    \n",
    "for showing_row in range(0, 2):\n",
    "    print(showing_posts[showing_row][1])\n",
    "    print(showing_posts[-showing_row-1][1])"
   ]
  },
  {
   "cell_type": "markdown",
   "metadata": {},
   "source": [
    "### Data Analysis, Results and Conclusions\n",
    "\n",
    "**Analysing the Impact of `Type of Post` on the m Number of Comments Received**\n",
    "\n",
    "The first question, we need to answer is:\n",
    "\n",
    "<span style='color:blue'> Which of the two categories of posts i.e., `Ask HN` and `Show HN` receives more comments on average? </span>\n",
    "\n",
    "To answer this question, we first need to find the values in `num_comments` column which is at `index 4` in each record (post) of the dataset. We will add these values to the `total_comments` variable and divide it by the `length of each list` to get the average number of comments. After we get these statistics, we can easily show which one of the two post categories receives more comments on average.\n",
    "\n",
    "#### Average number of `Ask HN` comments"
   ]
  },
  {
   "cell_type": "code",
   "execution_count": 6,
   "metadata": {},
   "outputs": [
    {
     "name": "stdout",
     "output_type": "stream",
     "text": [
      "The average number of comments on \"Ask HN\" posts is: 14.04\n"
     ]
    }
   ],
   "source": [
    "total_asking_comments = 0\n",
    "\n",
    "for post_row in asking_posts:\n",
    "    num_comments = post_row[4]\n",
    "    total_asking_comments += int(num_comments)\n",
    "\n",
    "avg_asking_comments = total_asking_comments / len(asking_posts)\n",
    "print('The average number of comments on \"Ask HN\" posts is: ' + '{:.2f}'.format(avg_asking_comments))"
   ]
  },
  {
   "cell_type": "markdown",
   "metadata": {},
   "source": [
    "#### Average number of `Show HN` comments"
   ]
  },
  {
   "cell_type": "code",
   "execution_count": 7,
   "metadata": {
    "scrolled": true
   },
   "outputs": [
    {
     "name": "stdout",
     "output_type": "stream",
     "text": [
      "The average number of comments on \"Show HN\" posts is: 10.32\n"
     ]
    }
   ],
   "source": [
    "total_showing_comments = 0\n",
    "\n",
    "for post_row in showing_posts:\n",
    "    comments = post_row[4]\n",
    "    total_showing_comments += int(comments)\n",
    "    \n",
    "avg_showing_comments = total_showing_comments / len(showing_posts)\n",
    "print('The average number of comments on \"Show HN\" posts is: ' + '{:.2f}'.format(avg_showing_comments))"
   ]
  },
  {
   "cell_type": "markdown",
   "metadata": {},
   "source": [
    "The average number of posts we got for each category above, clearly shows that `Ask HN` category receives more comments than `Show HN` category.\n",
    "\n",
    "**Drawing the Conclusion**\n",
    "\n",
    "To make a conclusion, we need to calculate the average number of comments which we receive more per post. To get these statistics, we subtract the calculated average number of `Ask HN` posts from the calculated average number of `Show HN` posts."
   ]
  },
  {
   "cell_type": "code",
   "execution_count": 8,
   "metadata": {},
   "outputs": [
    {
     "name": "stdout",
     "output_type": "stream",
     "text": [
      "The \"Ask HN\" category gets 3.72 more comments.\n"
     ]
    }
   ],
   "source": [
    "avg_num_comments = avg_asking_comments - avg_showing_comments\n",
    "\n",
    "if avg_asking_comments > avg_showing_comments:\n",
    "    print('The \"Ask HN\" category gets ' + '{:.2f}'.format(avg_num_comments) + ' more comments.')\n",
    "elif avg_show_comments > avg_ask_comments:\n",
    "    print('The \"Show HN\" category gets ' + '{:.2f}'.format(avg_num_comments) + ' more comments.')\n",
    "elif avg_showing_comments == avg_asking_comments:\n",
    "    print('Both categories on average get the same number of comments.')\n"
   ]
  },
  {
   "cell_type": "markdown",
   "metadata": {},
   "source": [
    "The `Ask HN` posts receive on average about `4` comments more per post compared to `Show HN` posts.\n",
    "\n",
    "The reason behind `Ask HN` category posts getting more comments could be explained by the fact that in the `Ask Section`, users are asking for solutions to particular problems. Therefore, the community members get more involved than in the `Show Section`.\n",
    "\n",
    "As evident from the above analysis, the `Ask HN`posts are more likely to receive more comments. So, our further analysis will focus just on this category of posts.\n",
    "\n",
    "**Analysing the Impact of `Time of Posting` on the m Number of Comments Received**\n",
    "\n",
    "The second question that we need to answer is:\n",
    "\n",
    "<span style='color:blue'>Does `Time of Posting` impact the number of comments a post receives?</span>\n",
    "\n",
    "To answer this question, we will investigate whether posts created at a certain time receive more comments. For this we will first calculate the number of `Ask HN` posts created in each hour of the day. Then, we will calculate the number of comments received for posts in each hour category. Finally, we will calculate the average number of comments that are received by the `Ask HN` posts posted in different hour categories.\n",
    "\n",
    "To obtain above statistics, we first declare an empty list `posts_by_hour`. Next, we iterate trough each post in the `asking_posts` list. We asign the `timestamp` to `created_at` and the `number of comments` to `num_comments`. At the end we append a list with that data to the `posts_by_hour` list."
   ]
  },
  {
   "cell_type": "code",
   "execution_count": 9,
   "metadata": {},
   "outputs": [],
   "source": [
    "posts_by_hour = []\n",
    "\n",
    "for post_row in asking_posts:\n",
    "    created_at = post_row[6] \n",
    "    num_comments = int(post_row[4])\n",
    "    posts_by_hour.append([created_at, num_comments])"
   ]
  },
  {
   "cell_type": "markdown",
   "metadata": {},
   "source": [
    "Now we have all the `Ask HN` posts along with their `time_stamp` and `number of comments` in `posts_by_hour` list. Let us calculate the number of `Ask HN` posted created during each hour and the number of comments they received. We do this by first creating a frequent table. We then count the hour to get the number of posts for each hour and set the comments by hour equal to the comment number to get the comments in each hour."
   ]
  },
  {
   "cell_type": "code",
   "execution_count": 10,
   "metadata": {},
   "outputs": [],
   "source": [
    "counts_by_hour = {} \n",
    "comments_by_hour = {} \n",
    "\n",
    "for row_data in posts_by_hour:\n",
    "    date_str = row_data[0]\n",
    "    num_comments = row_data[1]\n",
    "    dt_object = dt.datetime.strptime(date_str, '%m/%d/%Y %H:%M') \n",
    "    hour = dt_object.strftime('%H') \n",
    "    \n",
    "        \n",
    "    if hour not in counts_by_hour:\n",
    "        counts_by_hour[hour] = 1\n",
    "        comments_by_hour[hour] = num_comments\n",
    "    else:\n",
    "        counts_by_hour[hour] += 1\n",
    "        comments_by_hour[hour] += num_comments\n",
    "        "
   ]
  },
  {
   "cell_type": "markdown",
   "metadata": {},
   "source": [
    "Let us sort the contents of `counts_by_hour` list to make further analysis easier. We will use in-built `sorted()` function to do so."
   ]
  },
  {
   "cell_type": "code",
   "execution_count": 11,
   "metadata": {
    "scrolled": false
   },
   "outputs": [
    {
     "name": "stdout",
     "output_type": "stream",
     "text": [
      "Hour: 00 Posts: 55\n",
      "Hour: 01 Posts: 60\n",
      "Hour: 02 Posts: 58\n",
      "Hour: 03 Posts: 54\n",
      "Hour: 04 Posts: 47\n",
      "Hour: 05 Posts: 46\n",
      "Hour: 06 Posts: 44\n",
      "Hour: 07 Posts: 34\n",
      "Hour: 08 Posts: 48\n",
      "Hour: 09 Posts: 45\n",
      "Hour: 10 Posts: 59\n",
      "Hour: 11 Posts: 58\n",
      "Hour: 12 Posts: 73\n",
      "Hour: 13 Posts: 85\n",
      "Hour: 14 Posts: 107\n",
      "Hour: 15 Posts: 116\n",
      "Hour: 16 Posts: 108\n",
      "Hour: 17 Posts: 100\n",
      "Hour: 18 Posts: 109\n",
      "Hour: 19 Posts: 110\n",
      "Hour: 20 Posts: 80\n",
      "Hour: 21 Posts: 109\n",
      "Hour: 22 Posts: 71\n",
      "Hour: 23 Posts: 68\n"
     ]
    }
   ],
   "source": [
    "for row in sorted(counts_by_hour):\n",
    "    print('Hour: ' + str(row) + ' Posts: ' + str(counts_by_hour[row]))"
   ]
  },
  {
   "cell_type": "markdown",
   "metadata": {},
   "source": [
    "Let us now get the hour with the most posts. We iterate though the rows of `counts_by_hour` and if the row of `counts_by_hour` is bigger than `max_by_hour`, which is initialised to `0`, we asign the row and number to `max_hour` list."
   ]
  },
  {
   "cell_type": "code",
   "execution_count": 12,
   "metadata": {},
   "outputs": [
    {
     "name": "stdout",
     "output_type": "stream",
     "text": [
      "Most of the posts in the \"Ask HN\" category were posted around 15 o'clock.\n",
      "The number of posts in the \"Ask HN\" category that were posted at 15 hours is: 116.\n"
     ]
    }
   ],
   "source": [
    "max_by_hour = 0\n",
    "max_hour = []\n",
    "\n",
    "for row in counts_by_hour:\n",
    "    if counts_by_hour[row] > max_by_hour:\n",
    "        max_by_hour = counts_by_hour[row]\n",
    "        max_hour = [row, max_by_hour]\n",
    "\n",
    "print('Most of the posts in the \"Ask HN\" category were posted around ' + str(max_hour[0]) + \" o'clock.\")\n",
    "print('The number of posts in the \"Ask HN\" category that were posted at ' + str(max_hour[0]) + \" hours is: \" + str(max_hour[1]) + '.' ) "
   ]
  },
  {
   "cell_type": "markdown",
   "metadata": {},
   "source": [
    "Let us sort the `comments_by_hour` list from 00 to 23 using the in-built `sorted()` function."
   ]
  },
  {
   "cell_type": "code",
   "execution_count": 13,
   "metadata": {
    "scrolled": true
   },
   "outputs": [
    {
     "name": "stdout",
     "output_type": "stream",
     "text": [
      "Hour: 00 Comments: 447\n",
      "Hour: 01 Comments: 683\n",
      "Hour: 02 Comments: 1381\n",
      "Hour: 03 Comments: 421\n",
      "Hour: 04 Comments: 337\n",
      "Hour: 05 Comments: 464\n",
      "Hour: 06 Comments: 397\n",
      "Hour: 07 Comments: 267\n",
      "Hour: 08 Comments: 492\n",
      "Hour: 09 Comments: 251\n",
      "Hour: 10 Comments: 793\n",
      "Hour: 11 Comments: 641\n",
      "Hour: 12 Comments: 687\n",
      "Hour: 13 Comments: 1253\n",
      "Hour: 14 Comments: 1416\n",
      "Hour: 15 Comments: 4477\n",
      "Hour: 16 Comments: 1814\n",
      "Hour: 17 Comments: 1146\n",
      "Hour: 18 Comments: 1439\n",
      "Hour: 19 Comments: 1188\n",
      "Hour: 20 Comments: 1722\n",
      "Hour: 21 Comments: 1745\n",
      "Hour: 22 Comments: 479\n",
      "Hour: 23 Comments: 543\n"
     ]
    }
   ],
   "source": [
    "for row in sorted(comments_by_hour):\n",
    "    print('Hour: ' + str(row) +  ' Comments: ' + str(comments_by_hour[row]))"
   ]
  },
  {
   "cell_type": "markdown",
   "metadata": {},
   "source": [
    "To get the hour with the most comments, we iterate though the rows of `comments_by_hour` list. If the row of `comments_by_hour` value is bigger than `max_by_comments`, we asign the row and number to `max_comments`."
   ]
  },
  {
   "cell_type": "code",
   "execution_count": 14,
   "metadata": {},
   "outputs": [
    {
     "name": "stdout",
     "output_type": "stream",
     "text": [
      "Most of the comments were written around: 15 o'clock.\n",
      "The number of comments written is: 4477.\n"
     ]
    }
   ],
   "source": [
    "max_by_comments = 0\n",
    "max_comments = []\n",
    "\n",
    "for row in comments_by_hour:\n",
    "    if comments_by_hour[row] > max_by_comments:\n",
    "        max_by_comments = comments_by_hour[row]\n",
    "        max_comments = [row, comments_by_hour[row]]\n",
    "\n",
    "print('Most of the comments were written around: ' + str(max_comments[0]) + \" o'clock.\")\n",
    "print('The number of comments written is: '+ str(max_comments[1]) + \".\" )"
   ]
  },
  {
   "cell_type": "markdown",
   "metadata": {},
   "source": [
    "After analysing the `counts_by_hour` and `comments_by_hour` lists, it becomes clear that the most posts and the most comments were written around **3 pm**.\n",
    "\n",
    "To support this claim, let us first calculate the average number of comments per post, for posts created during each hour of the day."
   ]
  },
  {
   "cell_type": "code",
   "execution_count": 15,
   "metadata": {},
   "outputs": [
    {
     "name": "stdout",
     "output_type": "stream",
     "text": [
      "Hour: 00 Comments (avg): 8.127272727272727\n",
      "Hour: 01 Comments (avg): 11.383333333333333\n",
      "Hour: 02 Comments (avg): 23.810344827586206\n",
      "Hour: 03 Comments (avg): 7.796296296296297\n",
      "Hour: 04 Comments (avg): 7.170212765957447\n",
      "Hour: 05 Comments (avg): 10.08695652173913\n",
      "Hour: 06 Comments (avg): 9.022727272727273\n",
      "Hour: 07 Comments (avg): 7.852941176470588\n",
      "Hour: 08 Comments (avg): 10.25\n",
      "Hour: 09 Comments (avg): 5.5777777777777775\n",
      "Hour: 10 Comments (avg): 13.440677966101696\n",
      "Hour: 11 Comments (avg): 11.051724137931034\n",
      "Hour: 12 Comments (avg): 9.41095890410959\n",
      "Hour: 13 Comments (avg): 14.741176470588234\n",
      "Hour: 14 Comments (avg): 13.233644859813085\n",
      "Hour: 15 Comments (avg): 38.5948275862069\n",
      "Hour: 16 Comments (avg): 16.796296296296298\n",
      "Hour: 17 Comments (avg): 11.46\n",
      "Hour: 18 Comments (avg): 13.20183486238532\n",
      "Hour: 19 Comments (avg): 10.8\n",
      "Hour: 20 Comments (avg): 21.525\n",
      "Hour: 21 Comments (avg): 16.009174311926607\n",
      "Hour: 22 Comments (avg): 6.746478873239437\n",
      "Hour: 23 Comments (avg): 7.985294117647059\n"
     ]
    }
   ],
   "source": [
    "avg_by_hour = []\n",
    "for hour in counts_by_hour:\n",
    "    avg = comments_by_hour[hour] / counts_by_hour[hour]\n",
    "    avg_by_hour.append([hour, avg])\n",
    "\n",
    "for row in sorted(avg_by_hour):\n",
    "    print('Hour: ' + str(row[0]) + ' Comments (avg): ' + str(row[1])) "
   ]
  },
  {
   "cell_type": "markdown",
   "metadata": {},
   "source": [
    "Now we have a sorted list with average number of comments for each hour of the day. To get a better overview, we will swap the corresponding entries and sort them by size."
   ]
  },
  {
   "cell_type": "code",
   "execution_count": 16,
   "metadata": {},
   "outputs": [
    {
     "name": "stdout",
     "output_type": "stream",
     "text": [
      "[[5.5777777777777775, '09'], [14.741176470588234, '13'], [13.440677966101696, '10'], [13.233644859813085, '14'], [16.796296296296298, '16'], [7.985294117647059, '23'], [9.41095890410959, '12'], [11.46, '17'], [38.5948275862069, '15'], [16.009174311926607, '21'], [21.525, '20'], [23.810344827586206, '02'], [13.20183486238532, '18'], [7.796296296296297, '03'], [10.08695652173913, '05'], [10.8, '19'], [11.383333333333333, '01'], [6.746478873239437, '22'], [10.25, '08'], [7.170212765957447, '04'], [8.127272727272727, '00'], [9.022727272727273, '06'], [7.852941176470588, '07'], [11.051724137931034, '11']]\n"
     ]
    }
   ],
   "source": [
    "swap_avg_by_hour = []\n",
    "\n",
    "for row in avg_by_hour: \n",
    "    swap_avg_by_hour.append([row[1], row[0]])\n",
    "    \n",
    "print(swap_avg_by_hour)"
   ]
  },
  {
   "cell_type": "markdown",
   "metadata": {},
   "source": [
    "Let us dig deeper into `swap_avg_by_hour` list to identify the `5` hours during which the most number of comments were written."
   ]
  },
  {
   "cell_type": "code",
   "execution_count": 17,
   "metadata": {},
   "outputs": [
    {
     "name": "stdout",
     "output_type": "stream",
     "text": [
      "Top 5 Hours for \"Ask HN\" comments\n",
      "15:00: 38.59 comments per post\n",
      "02:00: 23.81 comments per post\n",
      "20:00: 21.52 comments per post\n",
      "16:00: 16.80 comments per post\n",
      "21:00: 16.01 comments per post\n"
     ]
    }
   ],
   "source": [
    "sorted_swap = sorted(swap_avg_by_hour, reverse=True) \n",
    "\n",
    "print('Top 5 Hours for \"Ask HN\" comments')\n",
    "\n",
    "for average, hour in sorted_swap[:5]:\n",
    "    hour_object = dt.datetime.strptime(hour, '%H') # convert the string to datetime object\n",
    "    time = hour_object.strftime('%H:%M') # format the datetime object \n",
    "    print('{time}: {average:.2f} comments per post'.format(time=time, average=average) )"
   ]
  },
  {
   "cell_type": "markdown",
   "metadata": {},
   "source": [
    "From the above results, we deduce that a post should be created at 15:00 o'clock to have a higher chance of reveiving comments. \n",
    "\n",
    "### Conclusion\n",
    "After a thorough analysis of the `haker_news` dataset, we found that the most comments were written in the `Ask HN` section. For our posts to receive maximum number of comments, we should publish an article around **3pm**."
   ]
  }
 ],
 "metadata": {
  "kernelspec": {
   "display_name": "Python 3 (ipykernel)",
   "language": "python",
   "name": "python3"
  },
  "language_info": {
   "codemirror_mode": {
    "name": "ipython",
    "version": 3
   },
   "file_extension": ".py",
   "mimetype": "text/x-python",
   "name": "python",
   "nbconvert_exporter": "python",
   "pygments_lexer": "ipython3",
   "version": "3.9.7"
  }
 },
 "nbformat": 4,
 "nbformat_minor": 2
}
